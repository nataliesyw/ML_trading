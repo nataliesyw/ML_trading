{
 "cells": [
  {
   "cell_type": "markdown",
   "metadata": {},
   "source": [
    "# Pandas Basics "
   ]
  },
  {
   "cell_type": "code",
   "execution_count": 82,
   "metadata": {},
   "outputs": [],
   "source": [
    "import os\n",
    "import pandas as pd\n",
    "import matplotlib.pyplot as plt"
   ]
  },
  {
   "cell_type": "code",
   "execution_count": 70,
   "metadata": {},
   "outputs": [
    {
     "name": "stdout",
     "output_type": "stream",
     "text": [
      "2019-12-31 00:00:00\n",
      "Empty DataFrame\n",
      "Columns: []\n",
      "Index: [2019-12-31 00:00:00, 2020-01-01 00:00:00, 2020-01-02 00:00:00, 2020-01-03 00:00:00, 2020-01-04 00:00:00]\n"
     ]
    }
   ],
   "source": [
    "# Define a date range\n",
    "dates = pd.date_range('2019-12-31', '2020-5-31')\n",
    "print(dates[0])\n",
    "df=pd.DataFrame(index=dates)\n",
    "print(df.head())"
   ]
  },
  {
   "cell_type": "markdown",
   "metadata": {},
   "source": [
    "### pd.read: read csv\n",
    "\n"
   ]
  },
  {
   "cell_type": "code",
   "execution_count": 75,
   "metadata": {},
   "outputs": [
    {
     "name": "stdout",
     "output_type": "stream",
     "text": [
      "DatetimeIndex(['2020-02-01', '2020-02-02', '2020-02-03', '2020-02-04',\n",
      "               '2020-02-05', '2020-02-06', '2020-02-07', '2020-02-08',\n",
      "               '2020-02-09', '2020-02-10', '2020-02-11', '2020-02-12',\n",
      "               '2020-02-13', '2020-02-14', '2020-02-15', '2020-02-16',\n",
      "               '2020-02-17', '2020-02-18', '2020-02-19', '2020-02-20',\n",
      "               '2020-02-21', '2020-02-22', '2020-02-23', '2020-02-24',\n",
      "               '2020-02-25', '2020-02-26', '2020-02-27', '2020-02-28',\n",
      "               '2020-02-29', '2020-03-01'],\n",
      "              dtype='datetime64[ns]', freq='D')\n",
      "2020-02-01 00:00:00\n",
      "Empty DataFrame\n",
      "Columns: []\n",
      "Index: [2020-02-01 00:00:00, 2020-02-02 00:00:00, 2020-02-03 00:00:00, 2020-02-04 00:00:00, 2020-02-05 00:00:00, 2020-02-06 00:00:00, 2020-02-07 00:00:00, 2020-02-08 00:00:00, 2020-02-09 00:00:00, 2020-02-10 00:00:00, 2020-02-11 00:00:00, 2020-02-12 00:00:00, 2020-02-13 00:00:00, 2020-02-14 00:00:00, 2020-02-15 00:00:00, 2020-02-16 00:00:00, 2020-02-17 00:00:00, 2020-02-18 00:00:00, 2020-02-19 00:00:00, 2020-02-20 00:00:00, 2020-02-21 00:00:00, 2020-02-22 00:00:00, 2020-02-23 00:00:00, 2020-02-24 00:00:00, 2020-02-25 00:00:00, 2020-02-26 00:00:00, 2020-02-27 00:00:00, 2020-02-28 00:00:00, 2020-02-29 00:00:00, 2020-03-01 00:00:00]\n",
      " \n",
      "#########################\n",
      "           Date        Open        High         Low       Close   Adj Close  \\\n",
      "0    2019-08-07  284.399994  288.820007  282.040009  287.970001  282.333954   \n",
      "1    2019-08-08  289.619995  293.619995  289.010010  293.619995  287.873322   \n",
      "2    2019-08-09  292.579987  293.239990  289.649994  291.619995  285.912476   \n",
      "3    2019-08-12  289.959991  291.609985  287.019989  288.070007  282.432007   \n",
      "4    2019-08-13  287.739990  294.149994  287.359985  292.549988  286.824280   \n",
      "..          ...         ...         ...         ...         ...         ...   \n",
      "248  2020-07-31  325.899994  326.630005  321.329987  326.519989  326.519989   \n",
      "249  2020-08-03  328.320007  329.619995  327.730011  328.790009  328.790009   \n",
      "250  2020-08-04  327.859985  330.059998  327.859985  330.059998  330.059998   \n",
      "251  2020-08-05  331.470001  332.390015  331.179993  332.109985  332.109985   \n",
      "252  2020-08-06  331.480011  332.635010  331.130005  332.119995  332.119995   \n",
      "\n",
      "        Volume  \n",
      "0    140572300  \n",
      "1     87713900  \n",
      "2     93730000  \n",
      "3     62629500  \n",
      "4     94299800  \n",
      "..         ...  \n",
      "248   85210800  \n",
      "249   53077900  \n",
      "250   41917900  \n",
      "251   42697700  \n",
      "252   17828322  \n",
      "\n",
      "[253 rows x 7 columns]\n",
      "dfspy has index of 0 to ...\n",
      "need to fomulate the read_csv: the date as the index\n",
      "parse_date: make the time indexing object present\n",
      "usecols: trim the column needed\n",
      "na_values: csv has NaN as STRING\n",
      "tell the csv that NaN should not interpreted as numbers\n",
      "#########################\n",
      " \n",
      "             Adj Close\n",
      "2020-02-03  320.813446\n",
      "2020-02-04  325.703064\n",
      "2020-02-05  329.464294\n",
      "2020-02-06  330.572876\n",
      "2020-02-07  328.811035\n",
      "2020-02-10  331.265717\n",
      "2020-02-11  331.839813\n",
      "2020-02-12  333.977783\n",
      "2020-02-13  333.621429\n",
      "2020-02-14  334.155945\n",
      "2020-02-18  333.294800\n",
      "2020-02-19  334.888397\n",
      "2020-02-20  333.512573\n",
      "2020-02-21  330.077972\n",
      "2020-02-24  319.130829\n",
      "2020-02-25  309.460449\n",
      "2020-02-26  308.322205\n",
      "2020-02-27  294.474915\n",
      "2020-02-28  293.237701\n"
     ]
    }
   ],
   "source": [
    "nyse=pd.read_csv(\"^NYA.csv\")\n",
    "print(nyse.head(1))"
   ]
  },
  {
   "cell_type": "code",
   "execution_count": 76,
   "metadata": {},
   "outputs": [
    {
     "name": "stdout",
     "output_type": "stream",
     "text": [
      "We can combine df.join() and df.dropna() using the how=inner argument of df.join()\n"
     ]
    }
   ],
   "source": [
    "print(\"We can combine df.join() and df.dropna() using the how=inner argument of df.join()\")"
   ]
  },
  {
   "cell_type": "markdown",
   "metadata": {},
   "source": [
    "## build a dataframe from joining two csv\n",
    "\n"
   ]
  },
  {
   "cell_type": "code",
   "execution_count": null,
   "metadata": {},
   "outputs": [],
   "source": [
    "\n",
    "# 1. build an empty dataframe\n",
    "#date_range function \n",
    "#define the date range\n",
    "start_date = '2020-02-01'\n",
    "end_date = '2020-03-01'\n",
    "dates = pd.date_range(start_date, end_date) #start and end\n",
    "print(dates)\n",
    "\n",
    "#datetime index object: (a list of)\n",
    "print(dates[0])\n",
    "\n",
    "#index as dates\n",
    "df1=pd.DataFrame(index=dates)\n",
    "print(df1)\n",
    "#combine the empty dataframe and dfSPY\n",
    "#join function \n",
    "#a.join(b)\n",
    "#a is base, all index in a will be in the new df\n",
    "#index in b, which is also presented in a will be in the new df\n",
    "#remaining row: nans\n",
    "dfSPY = pd.read_csv(\"SPY.csv\")\n",
    "print(\" \")\n",
    "print(\"#########################\")\n",
    "print(dfSPY)\n",
    "print(\"dfspy has index of 0 to ...\")\n",
    "print(\"need to fomulate the read_csv: the date as the index\")\n",
    "print(\"parse_date: make the time indexing object present\")\n",
    "print(\"usecols: trim the column needed\")\n",
    "print(\"na_values: csv has NaN as STRING\")\n",
    "print(\"tell the csv that NaN should not interpreted as numbers\")\n",
    "print(\"#########################\")\n",
    "print(\" \")\n",
    "\n",
    "\n",
    "dfSPY=pd.read_csv(\"SPY.csv\",index_col=\"Date\",parse_dates=True,usecols=['Date', 'Adj Close'], na_values=['nan'])\n",
    "df1=df1.join(dfSPY)\n",
    "df1 = df1.dropna()\n",
    "print(df1)"
   ]
  },
  {
   "cell_type": "markdown",
   "metadata": {},
   "source": [
    "### We can combine df.join() and df.dropna() using the how=inner argument of df.join()"
   ]
  },
  {
   "cell_type": "code",
   "execution_count": null,
   "metadata": {},
   "outputs": [],
   "source": []
  },
  {
   "cell_type": "code",
   "execution_count": null,
   "metadata": {},
   "outputs": [],
   "source": []
  }
 ],
 "metadata": {
  "kernelspec": {
   "display_name": "Python 3",
   "language": "python",
   "name": "python3"
  },
  "language_info": {
   "codemirror_mode": {
    "name": "ipython",
    "version": 3
   },
   "file_extension": ".py",
   "mimetype": "text/x-python",
   "name": "python",
   "nbconvert_exporter": "python",
   "pygments_lexer": "ipython3",
   "version": "3.7.6"
  }
 },
 "nbformat": 4,
 "nbformat_minor": 4
}
