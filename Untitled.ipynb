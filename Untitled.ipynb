{
 "cells": [
  {
   "cell_type": "code",
   "execution_count": 1,
   "metadata": {},
   "outputs": [],
   "source": [
    "###Panda basics"
   ]
  },
  {
   "cell_type": "code",
   "execution_count": 3,
   "metadata": {},
   "outputs": [],
   "source": [
    "import os\n",
    "import pandas as pd\n",
    "import matplotlib.pyplot as plt"
   ]
  },
  {
   "cell_type": "code",
   "execution_count": 9,
   "metadata": {},
   "outputs": [
    {
     "name": "stdout",
     "output_type": "stream",
     "text": [
      "2019-12-31 00:00:00\n",
      "Empty DataFrame\n",
      "Columns: []\n",
      "Index: [2019-12-31 00:00:00, 2020-01-01 00:00:00, 2020-01-02 00:00:00, 2020-01-03 00:00:00, 2020-01-04 00:00:00]\n"
     ]
    }
   ],
   "source": [
    "# Define a date range\n",
    "dates = pd.date_range('2019-12-31', '2020-5-31')\n",
    "print(dates[0])\n",
    "df=pd.DataFrame(index=dates)\n",
    "print(df.head())"
   ]
  },
  {
   "cell_type": "code",
   "execution_count": 11,
   "metadata": {},
   "outputs": [
    {
     "name": "stdout",
     "output_type": "stream",
     "text": [
      "         Date         Open          High           Low         Close  \\\n",
      "0  2019-08-07  12627.55957  12663.330078  12414.110352  12632.959961   \n",
      "\n",
      "      Adj Close      Volume  \n",
      "0  12632.959961  4491750000  \n"
     ]
    }
   ],
   "source": [
    "#pd.read: read csv\n",
    "nyse=pd.read_csv(\"^NYA.csv\")\n",
    "print(nyse.head(1))"
   ]
  },
  {
   "cell_type": "code",
   "execution_count": 16,
   "metadata": {},
   "outputs": [
    {
     "name": "stdout",
     "output_type": "stream",
     "text": [
      "DatetimeIndex(['2020-02-01', '2020-02-02', '2020-02-03', '2020-02-04',\n",
      "               '2020-02-05', '2020-02-06', '2020-02-07', '2020-02-08',\n",
      "               '2020-02-09', '2020-02-10', '2020-02-11', '2020-02-12',\n",
      "               '2020-02-13', '2020-02-14', '2020-02-15', '2020-02-16',\n",
      "               '2020-02-17', '2020-02-18', '2020-02-19', '2020-02-20',\n",
      "               '2020-02-21', '2020-02-22', '2020-02-23', '2020-02-24',\n",
      "               '2020-02-25', '2020-02-26', '2020-02-27', '2020-02-28',\n",
      "               '2020-02-29', '2020-03-01'],\n",
      "              dtype='datetime64[ns]', freq='D')\n",
      "2020-02-01 00:00:00\n",
      "Empty DataFrame\n",
      "Columns: []\n",
      "Index: [2020-02-01 00:00:00, 2020-02-02 00:00:00, 2020-02-03 00:00:00, 2020-02-04 00:00:00, 2020-02-05 00:00:00, 2020-02-06 00:00:00, 2020-02-07 00:00:00, 2020-02-08 00:00:00, 2020-02-09 00:00:00, 2020-02-10 00:00:00, 2020-02-11 00:00:00, 2020-02-12 00:00:00, 2020-02-13 00:00:00, 2020-02-14 00:00:00, 2020-02-15 00:00:00, 2020-02-16 00:00:00, 2020-02-17 00:00:00, 2020-02-18 00:00:00, 2020-02-19 00:00:00, 2020-02-20 00:00:00, 2020-02-21 00:00:00, 2020-02-22 00:00:00, 2020-02-23 00:00:00, 2020-02-24 00:00:00, 2020-02-25 00:00:00, 2020-02-26 00:00:00, 2020-02-27 00:00:00, 2020-02-28 00:00:00, 2020-02-29 00:00:00, 2020-03-01 00:00:00]\n"
     ]
    }
   ],
   "source": [
    "#build a dataframe from joining two csv\n",
    "start_date = '2020-02-01'\n",
    "end_date = '2020-03-01'\n",
    "dates = pd.date_range(start_date, end_date)\n",
    "print(dates)\n",
    "\n",
    "#datetime index object: \n",
    "print(dates[0])\n",
    "\n",
    "df1=pd.DataFrame(index=dates)\n",
    "print(df1)\n"
   ]
  },
  {
   "cell_type": "code",
   "execution_count": 22,
   "metadata": {},
   "outputs": [],
   "source": [
    "# dspy = pd.read_csv(\"SPY.csv\")\n",
    "# df1 = df1.join(dspy)\n",
    "# print(df1.head())"
   ]
  },
  {
   "cell_type": "code",
   "execution_count": null,
   "metadata": {},
   "outputs": [],
   "source": []
  }
 ],
 "metadata": {
  "kernelspec": {
   "display_name": "Python 3",
   "language": "python",
   "name": "python3"
  },
  "language_info": {
   "codemirror_mode": {
    "name": "ipython",
    "version": 3
   },
   "file_extension": ".py",
   "mimetype": "text/x-python",
   "name": "python",
   "nbconvert_exporter": "python",
   "pygments_lexer": "ipython3",
   "version": "3.7.6"
  }
 },
 "nbformat": 4,
 "nbformat_minor": 4
}
