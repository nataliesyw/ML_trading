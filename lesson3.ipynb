{
 "cells": [
  {
   "cell_type": "markdown",
   "metadata": {},
   "source": [
    "# NumPy"
   ]
  },
  {
   "cell_type": "code",
   "execution_count": 1,
   "metadata": {},
   "outputs": [
    {
     "data": {
      "text/plain": [
       "'Numpy is a wrapper for numerical libraries\\nPandas is the wrapper for NumPy'"
      ]
     },
     "execution_count": 1,
     "metadata": {},
     "output_type": "execute_result"
    }
   ],
   "source": [
    "\"\"\"Numpy is a wrapper for numerical libraries\n",
    "Pandas is the wrapper for NumPy\"\"\""
   ]
  },
  {
   "cell_type": "code",
   "execution_count": 2,
   "metadata": {},
   "outputs": [
    {
     "data": {
      "text/plain": [
       "'Dataframe is a wrapper for the nd array'"
      ]
     },
     "execution_count": 2,
     "metadata": {},
     "output_type": "execute_result"
    }
   ],
   "source": [
    "\"\"\"Dataframe is a wrapper for the nd array\"\"\""
   ]
  },
  {
   "cell_type": "code",
   "execution_count": 4,
   "metadata": {},
   "outputs": [
    {
     "data": {
      "text/plain": [
       "'nd1[row,col]'"
      ]
     },
     "execution_count": 4,
     "metadata": {},
     "output_type": "execute_result"
    }
   ],
   "source": [
    "\"\"\"nd1 = df1.values\"\"\"\n",
    "\"\"\"nd1[row,col]\n",
    "[0,0]\n",
    "\"\"\""
   ]
  },
  {
   "cell_type": "code",
   "execution_count": 6,
   "metadata": {},
   "outputs": [],
   "source": [
    "import os\n",
    "import pandas as pd\n",
    "import numpy as np\n",
    "import matplotlib.pyplot as plt"
   ]
  },
  {
   "cell_type": "code",
   "execution_count": 7,
   "metadata": {},
   "outputs": [
    {
     "data": {
      "text/plain": [
       "'Last row: -1\\nsecond last: -2'"
      ]
     },
     "execution_count": 7,
     "metadata": {},
     "output_type": "execute_result"
    }
   ],
   "source": [
    "\"\"\"Last row: -1\n",
    "second last: -2\"\"\""
   ]
  },
  {
   "cell_type": "code",
   "execution_count": 8,
   "metadata": {},
   "outputs": [
    {
     "name": "stdout",
     "output_type": "stream",
     "text": [
      "         Date        Open        High         Low       Close   Adj Close  \\\n",
      "0  2019-08-07  284.399994  288.820007  282.040009  287.970001  282.333954   \n",
      "1  2019-08-08  289.619995  293.619995  289.010010  293.619995  287.873322   \n",
      "2  2019-08-09  292.579987  293.239990  289.649994  291.619995  285.912476   \n",
      "3  2019-08-12  289.959991  291.609985  287.019989  288.070007  282.432007   \n",
      "4  2019-08-13  287.739990  294.149994  287.359985  292.549988  286.824280   \n",
      "\n",
      "      Volume  \n",
      "0  140572300  \n",
      "1   87713900  \n",
      "2   93730000  \n",
      "3   62629500  \n",
      "4   94299800  \n"
     ]
    }
   ],
   "source": [
    "dfSPY=pd.read_csv(\"Data/SPY.csv\")\n",
    "\n",
    "print(dfSPY.head())"
   ]
  },
  {
   "cell_type": "code",
   "execution_count": 9,
   "metadata": {},
   "outputs": [
    {
     "name": "stdout",
     "output_type": "stream",
     "text": [
      "[['2019-08-07' 284.399994 288.820007 282.040009 287.97000099999997\n",
      "  282.333954 140572300]\n",
      " ['2019-08-08' 289.619995 293.619995 289.01001 293.619995\n",
      "  287.87332200000003 87713900]\n",
      " ['2019-08-09' 292.579987 293.23999 289.649994 291.619995\n",
      "  285.91247599999997 93730000]\n",
      " ['2019-08-12' 289.959991 291.609985 287.019989 288.070007 282.432007\n",
      "  62629500]\n",
      " ['2019-08-13' 287.73999 294.149994 287.359985 292.549988 286.82428\n",
      "  94299800]]\n"
     ]
    }
   ],
   "source": [
    "nd1=dfSPY.values\n",
    "print(nd1[0:5])"
   ]
  },
  {
   "cell_type": "code",
   "execution_count": null,
   "metadata": {},
   "outputs": [],
   "source": []
  }
 ],
 "metadata": {
  "kernelspec": {
   "display_name": "Python 3",
   "language": "python",
   "name": "python3"
  },
  "language_info": {
   "codemirror_mode": {
    "name": "ipython",
    "version": 3
   },
   "file_extension": ".py",
   "mimetype": "text/x-python",
   "name": "python",
   "nbconvert_exporter": "python",
   "pygments_lexer": "ipython3",
   "version": "3.7.6"
  }
 },
 "nbformat": 4,
 "nbformat_minor": 4
}
